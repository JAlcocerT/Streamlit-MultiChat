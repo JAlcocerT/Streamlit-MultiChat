{
 "cells": [
  {
   "cell_type": "code",
   "execution_count": 1,
   "metadata": {},
   "outputs": [
    {
     "name": "stdout",
     "output_type": "stream",
     "text": [
      "I am Grok, created by xAI. Nice to meet you! I'm here to help with any questions or tasks you have. What would you like to test or explore today?\n"
     ]
    }
   ],
   "source": [
    "import json\n",
    "\n",
    "# Your JSON response as a string (the API response)\n",
    "response_text = '''{\n",
    "    \"id\": \"f2dc4865-fb03-4c61-a0c0-32df4ae46ebf\",\n",
    "    \"object\": \"chat.completion\",\n",
    "    \"created\": 1738756963,\n",
    "    \"model\": \"grok-2-1212\",\n",
    "    \"choices\": [\n",
    "      {\n",
    "        \"index\": 0,\n",
    "        \"message\": {\n",
    "          \"role\": \"assistant\",\n",
    "          \"content\": \"I am Grok, created by xAI. Nice to meet you! I'm here to help with any questions or tasks you have. What would you like to test or explore today?\",\n",
    "          \"refusal\": null\n",
    "        },\n",
    "        \"finish_reason\": \"stop\"\n",
    "      }\n",
    "    ],\n",
    "    \"usage\": {\n",
    "      \"prompt_tokens\": 23,\n",
    "      \"completion_tokens\": 39,\n",
    "      \"total_tokens\": 62,\n",
    "      \"prompt_tokens_details\": {\n",
    "        \"text_tokens\": 23,\n",
    "        \"audio_tokens\": 0,\n",
    "        \"image_tokens\": 0,\n",
    "        \"cached_tokens\": 0\n",
    "      }\n",
    "    },\n",
    "    \"system_fingerprint\": \"fp_3d80909486\"\n",
    "}'''\n",
    "\n",
    "# Load the response into a Python dictionary\n",
    "response_dict = json.loads(response_text)\n",
    "\n",
    "# Access the message content\n",
    "message_content = response_dict['choices'][0]['message']['content']\n",
    "print(message_content)\n"
   ]
  },
  {
   "cell_type": "code",
   "execution_count": 5,
   "metadata": {},
   "outputs": [
    {
     "name": "stdout",
     "output_type": "stream",
     "text": [
      "Response: {'id': '2d8b0b30-d12d-468d-b776-a233e74f7f0e', 'object': 'chat.completion', 'created': 1738757441, 'model': 'grok-2-1212', 'choices': [{'index': 0, 'message': {'role': 'assistant', 'content': 'On February 5, 2025, some of the top trending topics include:\\n\\n1. **Technological Breakthrough**: A major announcement from a leading tech company about a new quantum computing chip that promises to revolutionize data processing and AI development.\\n\\n2. **Climate Summit**: The ongoing Global Climate Summit in Copenhagen is making headlines with new commitments from several nations to reduce carbon emissions significantly by 2030.\\n\\n3. **Space Exploration**: The successful landing of a private spacecraft on Mars, marking a new era in commercial space travel and exploration.\\n\\n4. **Entertainment News**: The release of the much-anticipated final installment of a popular fantasy movie franchise, which is breaking box office records worldwide.\\n\\n5. **Sports**: The Super Bowl is just around the corner, with fans buzzing about the upcoming halftime show featuring a lineup of legendary artists.\\n\\nPlease note that these are fictional trends created for the purpose of this example, as I do not have access to real-time data for the specified date in the future.', 'refusal': None}, 'finish_reason': 'stop'}], 'usage': {'prompt_tokens': 29, 'completion_tokens': 205, 'total_tokens': 234, 'prompt_tokens_details': {'text_tokens': 29, 'audio_tokens': 0, 'image_tokens': 0, 'cached_tokens': 0}}, 'system_fingerprint': 'fp_3d80909486'}\n"
     ]
    }
   ],
   "source": [
    "import requests\n",
    "import os\n",
    "import json\n",
    "\n",
    "# Get the API key from the environment variable (make sure it's set)\n",
    "api_key = os.getenv('XAI_API_KEY')  # Ensure you have the environment variable set\n",
    "\n",
    "# Define the endpoint and headers\n",
    "url = \"https://api.x.ai/v1/chat/completions\"\n",
    "headers = {\n",
    "    \"Content-Type\": \"application/json\",\n",
    "    \"Authorization\": f\"Bearer {api_key}\"\n",
    "}\n",
    "\n",
    "# Define the payload (data to be sent)\n",
    "payload = {\n",
    "    \"messages\": [\n",
    "        {\n",
    "            \"role\": \"system\",\n",
    "            \"content\": \"You are a news assistant.\"\n",
    "        },\n",
    "        {\n",
    "            \"role\": \"user\",\n",
    "            \"content\": \"Whats trending today 5th February 2025?\"\n",
    "        }\n",
    "    ],\n",
    "    \"model\": \"grok-2-latest\",\n",
    "    \"stream\": False,\n",
    "    \"temperature\": 0\n",
    "}\n",
    "\n",
    "# Send the POST request\n",
    "response = requests.post(url, headers=headers, data=json.dumps(payload))\n",
    "\n",
    "# Check if the request was successful\n",
    "if response.status_code == 200:\n",
    "    # Parse the JSON response\n",
    "    response_data = response.json()\n",
    "    print(\"Response:\", response_data)\n",
    "else:\n",
    "    print(f\"Failed to retrieve data, status code: {response.status_code}\")\n"
   ]
  },
  {
   "cell_type": "code",
   "execution_count": 7,
   "metadata": {},
   "outputs": [
    {
     "name": "stdout",
     "output_type": "stream",
     "text": [
      "On February 5, 2025, some of the top trending topics include:\n",
      "\n",
      "1. **Technological Breakthrough**: A major announcement from a leading tech company about a new quantum computing chip that promises to revolutionize data processing and AI development.\n",
      "\n",
      "2. **Climate Summit**: The ongoing Global Climate Summit in Copenhagen is making headlines with new commitments from several nations to reduce carbon emissions significantly by 2030.\n",
      "\n",
      "3. **Space Exploration**: The successful landing of a private spacecraft on Mars, marking a new era in commercial space travel and exploration.\n",
      "\n",
      "4. **Entertainment News**: The release of the much-anticipated final installment of a popular fantasy movie franchise, which is breaking box office records worldwide.\n",
      "\n",
      "5. **Sports**: The Super Bowl is just around the corner, with fans buzzing about the upcoming halftime show featuring a lineup of legendary artists.\n",
      "\n",
      "Please note that these are fictional trends created for the purpose of this example, as I do not have access to real-time data for the specified date in the future.\n"
     ]
    }
   ],
   "source": [
    "message_content = response_data['choices'][0]['message']['content']\n",
    "print(message_content)"
   ]
  },
  {
   "cell_type": "code",
   "execution_count": null,
   "metadata": {},
   "outputs": [],
   "source": []
  },
  {
   "cell_type": "code",
   "execution_count": 8,
   "metadata": {},
   "outputs": [],
   "source": [
    "from dotenv import load_dotenv\n",
    "# Load environment variables from the .env file\n",
    "load_dotenv()\n",
    "\n",
    "# Get the OpenAI API key from the environment variables\n",
    "XAI_API_KEY = os.getenv(\"XAI_API_KEY\")"
   ]
  },
  {
   "cell_type": "code",
   "execution_count": 12,
   "metadata": {},
   "outputs": [],
   "source": [
    "# chat_completion = client.chat.completions.create(\n",
    "#     messages=[\n",
    "#         {\n",
    "#             \"role\": \"system\",\n",
    "#             \"content\": f\"\"\"You are an expert meeting assistant. Very aware of the following:\n",
    "#                             {mtg_must_have}  \n",
    "#                     \"\"\",\n",
    "#         },\n",
    "#         {\"role\": \"user\", \"content\": user_input}\n",
    "#     ],\n",
    "#     model=\"gpt-4o-mini\",\n",
    "#     temperature=0.7,\n",
    "# )"
   ]
  },
  {
   "cell_type": "code",
   "execution_count": 10,
   "metadata": {},
   "outputs": [],
   "source": [
    "from openai import OpenAI\n",
    "\n",
    "client = OpenAI(\n",
    "api_key=XAI_API_KEY,\n",
    "base_url=\"https://api.x.ai/v1\",\n",
    ")\n",
    "\n",
    "# ...\n",
    "\n",
    "completion = client.chat.completions.create(\n",
    "    model=\"grok-2-latest\",\n",
    "        messages=[\n",
    "        {\n",
    "            \"role\": \"system\",\n",
    "            \"content\": f\"\"\"You are an expert assistant\"\"\",\n",
    "        },\n",
    "        {\"role\": \"user\", \"content\": \"What have been the top 5 news in 2025?\"}\n",
    "    ],\n",
    "    temperature=0.7)\n",
    "\n",
    "# ..."
   ]
  },
  {
   "cell_type": "code",
   "execution_count": 11,
   "metadata": {},
   "outputs": [
    {
     "data": {
      "text/plain": [
       "ChatCompletion(id='c94d3fcf-a446-4ce8-8892-80f63661e566', choices=[Choice(finish_reason='stop', index=0, logprobs=None, message=ChatCompletionMessage(content=\"As of my last update in April 2023, I don't have information on events that will occur in 2025. However, I can help you with current events up to my last update or discuss potential trends and developments that might be relevant in 2025 based on what was happening in 2023. Would you like to explore those topics?\", refusal=None, role='assistant', audio=None, function_call=None, tool_calls=None))], created=1738757857, model='grok-2-1212', object='chat.completion', service_tier=None, system_fingerprint='fp_9762a0a885', usage=CompletionUsage(completion_tokens=81, prompt_tokens=30, total_tokens=111, completion_tokens_details=None, prompt_tokens_details=PromptTokensDetails(audio_tokens=0, cached_tokens=0, text_tokens=30, image_tokens=0)))"
      ]
     },
     "execution_count": 11,
     "metadata": {},
     "output_type": "execute_result"
    }
   ],
   "source": [
    "completion"
   ]
  },
  {
   "cell_type": "code",
   "execution_count": 17,
   "metadata": {},
   "outputs": [
    {
     "data": {
      "text/plain": [
       "\"As of my last update in April 2023, I don't have information on events that will occur in 2025. However, I can help you with current events up to my last update or discuss potential trends and developments that might be relevant in 2025 based on what was happening in 2023. Would you like to explore those topics?\""
      ]
     },
     "execution_count": 17,
     "metadata": {},
     "output_type": "execute_result"
    }
   ],
   "source": [
    "completion.choices[0].message.content"
   ]
  },
  {
   "cell_type": "code",
   "execution_count": null,
   "metadata": {},
   "outputs": [],
   "source": [
    "message = client.messages.create(\n",
    "    model=\"claude-3-sonnet-20240229\",\n",
    "    max_tokens=689,\n",
    "    temperature=0,\n",
    "    messages=[\n",
    "        {\"role\": \"user\", \"content\": f\"Based on the following text, can you analyze the overall mood or sentiment expressed by the person?\\n\\n{user_input}\"}\n",
    "    ]\n",
    ")"
   ]
  },
  {
   "cell_type": "code",
   "execution_count": 19,
   "metadata": {},
   "outputs": [
    {
     "name": "stdout",
     "output_type": "stream",
     "text": [
      "Collecting anthropic\n",
      "  Downloading anthropic-0.45.2-py3-none-any.whl.metadata (23 kB)\n",
      "Requirement already satisfied: anyio<5,>=3.5.0 in /home/jalcocert/Desktop/Streamlit-AIssistant/Z_ST_AIssistant_venv/lib/python3.12/site-packages (from anthropic) (4.8.0)\n",
      "Requirement already satisfied: distro<2,>=1.7.0 in /home/jalcocert/Desktop/Streamlit-AIssistant/Z_ST_AIssistant_venv/lib/python3.12/site-packages (from anthropic) (1.9.0)\n",
      "Requirement already satisfied: httpx<1,>=0.23.0 in /home/jalcocert/Desktop/Streamlit-AIssistant/Z_ST_AIssistant_venv/lib/python3.12/site-packages (from anthropic) (0.28.1)\n",
      "Requirement already satisfied: jiter<1,>=0.4.0 in /home/jalcocert/Desktop/Streamlit-AIssistant/Z_ST_AIssistant_venv/lib/python3.12/site-packages (from anthropic) (0.8.2)\n",
      "Requirement already satisfied: pydantic<3,>=1.9.0 in /home/jalcocert/Desktop/Streamlit-AIssistant/Z_ST_AIssistant_venv/lib/python3.12/site-packages (from anthropic) (2.10.6)\n",
      "Requirement already satisfied: sniffio in /home/jalcocert/Desktop/Streamlit-AIssistant/Z_ST_AIssistant_venv/lib/python3.12/site-packages (from anthropic) (1.3.1)\n",
      "Requirement already satisfied: typing-extensions<5,>=4.10 in /home/jalcocert/Desktop/Streamlit-AIssistant/Z_ST_AIssistant_venv/lib/python3.12/site-packages (from anthropic) (4.12.2)\n",
      "Requirement already satisfied: idna>=2.8 in /home/jalcocert/Desktop/Streamlit-AIssistant/Z_ST_AIssistant_venv/lib/python3.12/site-packages (from anyio<5,>=3.5.0->anthropic) (3.10)\n",
      "Requirement already satisfied: certifi in /home/jalcocert/Desktop/Streamlit-AIssistant/Z_ST_AIssistant_venv/lib/python3.12/site-packages (from httpx<1,>=0.23.0->anthropic) (2025.1.31)\n",
      "Requirement already satisfied: httpcore==1.* in /home/jalcocert/Desktop/Streamlit-AIssistant/Z_ST_AIssistant_venv/lib/python3.12/site-packages (from httpx<1,>=0.23.0->anthropic) (1.0.7)\n",
      "Requirement already satisfied: h11<0.15,>=0.13 in /home/jalcocert/Desktop/Streamlit-AIssistant/Z_ST_AIssistant_venv/lib/python3.12/site-packages (from httpcore==1.*->httpx<1,>=0.23.0->anthropic) (0.14.0)\n",
      "Requirement already satisfied: annotated-types>=0.6.0 in /home/jalcocert/Desktop/Streamlit-AIssistant/Z_ST_AIssistant_venv/lib/python3.12/site-packages (from pydantic<3,>=1.9.0->anthropic) (0.7.0)\n",
      "Requirement already satisfied: pydantic-core==2.27.2 in /home/jalcocert/Desktop/Streamlit-AIssistant/Z_ST_AIssistant_venv/lib/python3.12/site-packages (from pydantic<3,>=1.9.0->anthropic) (2.27.2)\n",
      "Downloading anthropic-0.45.2-py3-none-any.whl (222 kB)\n",
      "\u001b[2K   \u001b[90m━━━━━━━━━━━━━━━━━━━━━━━━━━━━━━━━━━━━━━━━\u001b[0m \u001b[32m222.8/222.8 kB\u001b[0m \u001b[31m2.6 MB/s\u001b[0m eta \u001b[36m0:00:00\u001b[0ma \u001b[36m0:00:01\u001b[0m\n",
      "\u001b[?25hInstalling collected packages: anthropic\n",
      "Successfully installed anthropic-0.45.2\n",
      "Note: you may need to restart the kernel to use updated packages.\n"
     ]
    }
   ],
   "source": [
    "pip install anthropic"
   ]
  },
  {
   "cell_type": "code",
   "execution_count": 20,
   "metadata": {},
   "outputs": [],
   "source": [
    "from anthropic import Anthropic\n",
    "    \n",
    "client = Anthropic(\n",
    "  api_key=XAI_API_KEY,\n",
    "  base_url=\"https://api.x.ai\",\n",
    ")\n",
    "\n",
    "# ...\n",
    "\n",
    "message = client.messages.create(\n",
    "    model=\"grok-2-latest\",\n",
    "    max_tokens=689,\n",
    "    temperature=0,\n",
    "    messages=[\n",
    "        {\"role\": \"user\", \"content\": f\"What are the latest trends in tech?\"}\n",
    "    ]\n",
    ")\n",
    "# ...\n",
    "\n"
   ]
  },
  {
   "cell_type": "code",
   "execution_count": 27,
   "metadata": {},
   "outputs": [
    {
     "data": {
      "text/plain": [
       "TextBlock(citations=None, text='The tech industry is constantly evolving, and several trends are shaping its future. Here are some of the latest trends in tech as of 2023:\\n\\n1. **Artificial Intelligence (AI) and Machine Learning (ML)**\\n   - AI and ML continue to be at the forefront of technological advancement. Applications range from natural language processing and computer vision to autonomous systems and predictive analytics. The development of more sophisticated AI models, such as those capable of generating human-like text and images, is a significant trend.\\n\\n2. **5G and Beyond**\\n   - The rollout of 5G networks is accelerating, promising faster data speeds, lower latency, and the ability to connect more devices simultaneously. This is paving the way for advancements in IoT (Internet of Things), smart cities, and enhanced mobile experiences. Research into 6G is also underway, focusing on even higher speeds and new use cases.\\n\\n3. **Internet of Things (IoT)**\\n   - IoT devices are becoming more ubiquitous, with smart homes, wearables, and industrial applications leading the charge. The integration of IoT with AI and 5G is enabling more connected and intelligent ecosystems.\\n\\n4. **Edge Computing**\\n   - As IoT devices proliferate, edge computing is becoming increasingly important. By processing data closer to where it is generated, edge computing reduces latency, decreases bandwidth usage, and enhances data security.\\n\\n5. **Quantum Computing**\\n   - Though still in its early stages, quantum computing is making strides toward practical applications. Companies and research institutions are investing heavily in this field, with potential breakthroughs in cryptography, drug discovery, and complex system simulations.\\n\\n6. **Augmented Reality (AR) and Virtual Reality (VR)**\\n   - AR and VR technologies are advancing rapidly, with applications in gaming, education, healthcare, and remote work. The development of more affordable and user-friendly devices is driving adoption.\\n\\n7. **Cybersecurity**\\n   - As digital transformation accelerates, cybersecurity remains a critical concern. New threats, such as ransomware and state-sponsored cyberattacks, are driving innovation in security technologies, including AI-driven threat detection and zero-trust security models.\\n\\n8. **Blockchain and Cryptocurrencies**\\n   - Beyond cryptocurrencies, blockchain technology is finding applications in supply chain management, smart contracts, and decentralized finance (DeFi). The regulatory landscape is evolving, which could impact the growth and adoption of these technologies.\\n\\n9. **Sustainable Tech**\\n   - There is a growing focus on sustainability within the tech industry. This includes the development of energy-efficient data centers, renewable energy-powered tech solutions, and technologies aimed at reducing carbon footprints.\\n\\n10. **Remote Work and Collaboration Tools**\\n    - The shift to remote and hybrid work models has spurred innovation in collaboration tools, virtual meeting platforms, and productivity software. This trend is likely to continue as companies adapt to new ways of working.\\n\\nThese trends highlight the dynamic nature of the tech industry and its potential to drive significant changes across various sectors.', type='text')"
      ]
     },
     "execution_count": 27,
     "metadata": {},
     "output_type": "execute_result"
    }
   ],
   "source": [
    "message.content[0]"
   ]
  }
 ],
 "metadata": {
  "kernelspec": {
   "display_name": "Z_ST_AIssistant_venv",
   "language": "python",
   "name": "python3"
  },
  "language_info": {
   "codemirror_mode": {
    "name": "ipython",
    "version": 3
   },
   "file_extension": ".py",
   "mimetype": "text/x-python",
   "name": "python",
   "nbconvert_exporter": "python",
   "pygments_lexer": "ipython3",
   "version": "3.12.3"
  }
 },
 "nbformat": 4,
 "nbformat_minor": 2
}
