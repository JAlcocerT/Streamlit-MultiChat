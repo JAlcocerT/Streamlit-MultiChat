{
 "cells": [
  {
   "cell_type": "code",
   "execution_count": null,
   "id": "8777db6c",
   "metadata": {},
   "outputs": [],
   "source": [
    "#https://docs.litellm.ai/docs/providers\n",
    "#https://python.langchain.com/docs/integrations/chat/litellm/#chatlitellm"
   ]
  },
  {
   "cell_type": "code",
   "execution_count": null,
   "id": "d2cb1a68",
   "metadata": {},
   "outputs": [],
   "source": [
    "%pip install -qU langchain-litellm"
   ]
  },
  {
   "cell_type": "code",
   "execution_count": null,
   "id": "573131f3",
   "metadata": {},
   "outputs": [],
   "source": [
    "from langchain_litellm import ChatLiteLLM\n",
    "\n",
    "llm = ChatLiteLLM(model=\"gpt-4.1-nano\", temperature=0.1)"
   ]
  },
  {
   "cell_type": "code",
   "execution_count": null,
   "id": "dc323385",
   "metadata": {},
   "outputs": [],
   "source": [
    "response = await llm.ainvoke(\n",
    "    \"Classify the text into neutral, negative or positive. Text: I think the food was okay. Sentiment:\"\n",
    ")\n",
    "print(response)"
   ]
  }
 ],
 "metadata": {
  "kernelspec": {
   "display_name": "Python 3",
   "language": "python",
   "name": "python3"
  },
  "language_info": {
   "codemirror_mode": {
    "name": "ipython",
    "version": 3
   },
   "file_extension": ".py",
   "mimetype": "text/x-python",
   "name": "python",
   "nbconvert_exporter": "python",
   "pygments_lexer": "ipython3",
   "version": "3.10.12"
  }
 },
 "nbformat": 4,
 "nbformat_minor": 5
}
