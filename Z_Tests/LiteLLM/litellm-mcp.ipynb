{
 "cells": [
  {
   "cell_type": "code",
   "execution_count": null,
   "id": "39d26ac1",
   "metadata": {},
   "outputs": [],
   "source": [
    "#https://docs.litellm.ai/docs/mcp\n",
    "#https://jalcocert.github.io/JAlcocerT/ai-understanding-mcp-framework/"
   ]
  }
 ],
 "metadata": {
  "language_info": {
   "name": "python"
  }
 },
 "nbformat": 4,
 "nbformat_minor": 5
}
