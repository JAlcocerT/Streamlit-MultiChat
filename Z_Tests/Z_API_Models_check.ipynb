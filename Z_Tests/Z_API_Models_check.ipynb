{
 "cells": [
  {
   "cell_type": "markdown",
   "id": "f8ae4d2c",
   "metadata": {
    "vscode": {
     "languageId": "plaintext"
    }
   },
   "source": [
    "  * OpenAI API Keys - <https://platform.openai.com/api-keys>\n",
    "  * Anthropic - <https://console.anthropic.com/settings/keys>\n",
    "  * Groq - <https://console.groq.com/keys>\n",
    "  * For Ollama, you need [this setup](https://fossengineer.com/selfhosting-llms-ollama/)"
   ]
  },
  {
   "cell_type": "code",
   "execution_count": null,
   "id": "08dee414",
   "metadata": {
    "vscode": {
     "languageId": "plaintext"
    }
   },
   "outputs": [],
   "source": [
    "import openai\n",
    "import os\n",
    "\n",
    "# Configure your OpenAI API key (if not set as environment variable)\n",
    "# openai.api_key = \"YOUR_OPENAI_API_KEY\"\n",
    "\n",
    "try:\n",
    "    models = openai.models.list()\n",
    "    model_names = [model.id for model in models.data]\n",
    "    print(\"Available OpenAI Models:\")\n",
    "    for name in model_names:\n",
    "        print(f\"- {name}\")\n",
    "except openai.error.AuthenticationError as e:\n",
    "    print(f\"Authentication error: {e}\")\n",
    "    print(\"Please ensure your OPENAI_API_KEY environment variable is set correctly.\")\n",
    "except openai.error.OpenAIError as e:\n",
    "    print(f\"An OpenAI API error occurred: {e}\")"
   ]
  },
  {
   "cell_type": "code",
   "execution_count": null,
   "id": "9c29aee3",
   "metadata": {
    "vscode": {
     "languageId": "plaintext"
    }
   },
   "outputs": [],
   "source": [
    "from groq import Groq\n",
    "from dotenv import load_dotenv\n",
    "import os\n",
    "\n",
    "# Load environment variables from .env file\n",
    "load_dotenv()\n",
    "\n",
    "try:\n",
    "    # Get the Groq API key from the environment variables\n",
    "    groq_api_key = os.getenv(\"GROQ_API_KEY\")\n",
    "\n",
    "    if not groq_api_key:\n",
    "        raise ValueError(\"GROQ_API_KEY not found in environment variables or .env file.\")\n",
    "\n",
    "    # Initialize the Groq client with the API key\n",
    "    groq_client = Groq(api_key=groq_api_key)\n",
    "\n",
    "    models = groq_client.models.list()\n",
    "    model_names = [model.id for model in models.data]\n",
    "    print(\"Available Groq Models:\")\n",
    "    for name in model_names:\n",
    "        print(f\"- {name}\")\n",
    "\n",
    "except ValueError as ve:\n",
    "    print(f\"Configuration Error: {ve}\")\n",
    "    print(\"Please ensure you have a .env file with GROQ_API_KEY set.\")\n",
    "except Exception as e:\n",
    "    print(f\"An error occurred while fetching Groq models: {e}\")\n",
    "    print(\"Please ensure you have the 'groq' library installed and your GROQ_API_KEY is correctly configured.\")"
   ]
  }
 ],
 "metadata": {
  "language_info": {
   "name": "python"
  }
 },
 "nbformat": 4,
 "nbformat_minor": 5
}
