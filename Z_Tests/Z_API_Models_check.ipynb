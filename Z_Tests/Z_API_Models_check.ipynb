{
 "cells": [
  {
   "cell_type": "markdown",
   "id": "f8ae4d2c",
   "metadata": {
    "vscode": {
     "languageId": "plaintext"
    }
   },
   "source": [
    "  * OpenAI API Keys - <https://platform.openai.com/api-keys>\n",
    "  * Anthropic - <https://console.anthropic.com/settings/keys>\n",
    "  * Groq - <https://console.groq.com/keys>\n",
    "  * For Ollama, you need [this setup](https://fossengineer.com/selfhosting-llms-ollama/)"
   ]
  },
  {
   "cell_type": "code",
   "execution_count": null,
   "id": "08dee414",
   "metadata": {},
   "outputs": [],
   "source": [
    "import openai\n",
    "import os\n",
    "\n",
    "# Configure your OpenAI API key (if not set as environment variable)\n",
    "# openai.api_key = \"YOUR_OPENAI_API_KEY\"\n",
    "\n",
    "try:\n",
    "    models = openai.models.list()\n",
    "    model_names = [model.id for model in models.data]\n",
    "    print(\"Available OpenAI Models:\")\n",
    "    for name in model_names:\n",
    "        print(f\"- {name}\")\n",
    "except openai.error.AuthenticationError as e:\n",
    "    print(f\"Authentication error: {e}\")\n",
    "    print(\"Please ensure your OPENAI_API_KEY environment variable is set correctly.\")\n",
    "except openai.error.OpenAIError as e:\n",
    "    print(f\"An OpenAI API error occurred: {e}\")"
   ]
  },
  {
   "cell_type": "code",
   "execution_count": null,
   "id": "2fd398e8",
   "metadata": {},
   "outputs": [
    {
     "name": "stdout",
     "output_type": "stream",
     "text": [
      "Name: groq\n",
      "Version: 0.24.0\n",
      "Summary: The official Python library for the groq API\n",
      "Home-page: \n",
      "Author: \n",
      "Author-email: Groq <support@groq.com>\n",
      "License: Apache-2.0\n",
      "Location: /home/jalcocert/.local/lib/python3.10/site-packages\n",
      "Requires: anyio, distro, httpx, pydantic, sniffio, typing-extensions\n",
      "Required-by: \n"
     ]
    }
   ],
   "source": [
    "# !pip install groq==0.24.0\n",
    "!pip show groq"
   ]
  },
  {
   "cell_type": "code",
   "execution_count": 4,
   "id": "9c29aee3",
   "metadata": {},
   "outputs": [
    {
     "name": "stdout",
     "output_type": "stream",
     "text": [
      "Available Groq Models:\n",
      "- playai-tts-arabic\n",
      "- compound-beta\n",
      "- llama3-8b-8192\n",
      "- llama-3.1-8b-instant\n",
      "- gemma2-9b-it\n",
      "- mistral-saba-24b\n",
      "- llama-guard-3-8b\n",
      "- llama-3.3-70b-versatile\n",
      "- deepseek-r1-distill-llama-70b\n",
      "- playai-tts\n",
      "- compound-beta-mini\n",
      "- allam-2-7b\n",
      "- llama3-70b-8192\n",
      "- whisper-large-v3\n",
      "- meta-llama/llama-4-scout-17b-16e-instruct\n",
      "- distil-whisper-large-v3-en\n",
      "- qwen-qwq-32b\n",
      "- meta-llama/llama-4-maverick-17b-128e-instruct\n",
      "- whisper-large-v3-turbo\n"
     ]
    }
   ],
   "source": [
    "from groq import Groq\n",
    "from dotenv import load_dotenv\n",
    "import os\n",
    "\n",
    "# Load environment variables from .env file\n",
    "load_dotenv()\n",
    "\n",
    "try:\n",
    "    # Get the Groq API key from the environment variables\n",
    "    groq_api_key = os.getenv(\"GROQ_API_KEY\")\n",
    "\n",
    "    if not groq_api_key:\n",
    "        raise ValueError(\"GROQ_API_KEY not found in environment variables or .env file.\")\n",
    "\n",
    "    # Initialize the Groq client with the API key\n",
    "    groq_client = Groq(api_key=groq_api_key)\n",
    "\n",
    "    models = groq_client.models.list()\n",
    "    model_names = [model.id for model in models.data]\n",
    "    print(\"Available Groq Models:\")\n",
    "    for name in model_names:\n",
    "        print(f\"- {name}\")\n",
    "\n",
    "except ValueError as ve:\n",
    "    print(f\"Configuration Error: {ve}\")\n",
    "    print(\"Please ensure you have a .env file with GROQ_API_KEY set.\")\n",
    "except Exception as e:\n",
    "    print(f\"An error occurred while fetching Groq models: {e}\")\n",
    "    print(\"Please ensure you have the 'groq' library installed and your GROQ_API_KEY is correctly configured.\")"
   ]
  },
  {
   "cell_type": "code",
   "execution_count": 8,
   "id": "7d1bbc69",
   "metadata": {},
   "outputs": [
    {
     "name": "stdout",
     "output_type": "stream",
     "text": [
      "Available Groq Models (Unfiltered):\n",
      "- allam-2-7b\n",
      "- compound-beta\n",
      "- meta-llama/llama-4-scout-17b-16e-instruct\n",
      "- deepseek-r1-distill-llama-70b\n",
      "- whisper-large-v3-turbo\n",
      "- whisper-large-v3\n",
      "- qwen-qwq-32b\n",
      "- llama-3.3-70b-versatile\n",
      "- distil-whisper-large-v3-en\n",
      "- meta-llama/llama-4-maverick-17b-128e-instruct\n",
      "- llama3-8b-8192\n",
      "- llama-guard-3-8b\n",
      "- llama-3.1-8b-instant\n",
      "- playai-tts\n",
      "- compound-beta-mini\n",
      "- gemma2-9b-it\n",
      "- llama3-70b-8192\n",
      "- mistral-saba-24b\n",
      "- playai-tts-arabic\n",
      "\n",
      "Available Groq Models (Filtered):\n",
      "- meta-llama/llama-4-scout-17b-16e-instruct\n",
      "- deepseek-r1-distill-llama-70b\n",
      "- qwen-qwq-32b\n",
      "- llama-3.3-70b-versatile\n",
      "- meta-llama/llama-4-maverick-17b-128e-instruct\n",
      "- llama3-8b-8192\n",
      "- llama-guard-3-8b\n",
      "- llama-3.1-8b-instant\n",
      "- gemma2-9b-it\n",
      "- llama3-70b-8192\n",
      "- mistral-saba-24b\n",
      "\n",
      "Filtered Groq Models: ['meta-llama/llama-4-scout-17b-16e-instruct', 'deepseek-r1-distill-llama-70b', 'qwen-qwq-32b', 'llama-3.3-70b-versatile', 'meta-llama/llama-4-maverick-17b-128e-instruct', 'llama3-8b-8192', 'llama-guard-3-8b', 'llama-3.1-8b-instant', 'gemma2-9b-it', 'llama3-70b-8192', 'mistral-saba-24b']\n"
     ]
    }
   ],
   "source": [
    "from groq import Groq\n",
    "from dotenv import load_dotenv\n",
    "import os\n",
    "\n",
    "def get_filtered_groq_models(filters):\n",
    "    \"\"\"\n",
    "    Fetches available Groq models and filters them based on the provided list of strings.\n",
    "    \"\"\"\n",
    "    load_dotenv()\n",
    "    groq_api_key = os.getenv(\"GROQ_API_KEY\")\n",
    "\n",
    "    if not groq_api_key:\n",
    "        print(\"Error: GROQ_API_KEY not found in environment variables or .env file.\")\n",
    "        return None\n",
    "\n",
    "    try:\n",
    "        groq_client = Groq(api_key=groq_api_key)\n",
    "        models = groq_client.models.list()\n",
    "        all_model_names = [model.id for model in models.data]\n",
    "        print(\"Available Groq Models (Unfiltered):\")\n",
    "        for name in all_model_names:\n",
    "            print(f\"- {name}\")\n",
    "\n",
    "        filtered_models = [\n",
    "            name for name in all_model_names\n",
    "            if any(filter_str in name for filter_str in filters)\n",
    "        ]\n",
    "\n",
    "        print(\"\\nAvailable Groq Models (Filtered):\")\n",
    "        for name in filtered_models:\n",
    "            print(f\"- {name}\")\n",
    "\n",
    "        return filtered_models\n",
    "\n",
    "    except ValueError as ve:\n",
    "        print(f\"Configuration Error: {ve}\")\n",
    "        print(\"Please ensure you have a .env file with GROQ_API_KEY set.\")\n",
    "        return None\n",
    "    except Exception as e:\n",
    "        print(f\"An error occurred while fetching Groq models: {e}\")\n",
    "        print(\"Please ensure you have the 'groq' library installed and your GROQ_API_KEY is correctly configured.\")\n",
    "        return None\n",
    "\n",
    "# Define the filter strings\n",
    "model_filters = [\"llama\", \"qwen\", \"mistral\", \"gemma\", \"deepseek\"]\n",
    "\n",
    "# Fetch and filter the available Groq models\n",
    "filtered_models = get_filtered_groq_models(model_filters)\n",
    "\n",
    "if filtered_models:\n",
    "    print(\"\\nFiltered Groq Models:\", filtered_models)\n",
    "else:\n",
    "    print(\"\\nCould not fetch or filter Groq models. Please check the output for errors.\")"
   ]
  }
 ],
 "metadata": {
  "kernelspec": {
   "display_name": "Python 3",
   "language": "python",
   "name": "python3"
  },
  "language_info": {
   "codemirror_mode": {
    "name": "ipython",
    "version": 3
   },
   "file_extension": ".py",
   "mimetype": "text/x-python",
   "name": "python",
   "nbconvert_exporter": "python",
   "pygments_lexer": "ipython3",
   "version": "3.10.12"
  }
 },
 "nbformat": 4,
 "nbformat_minor": 5
}
